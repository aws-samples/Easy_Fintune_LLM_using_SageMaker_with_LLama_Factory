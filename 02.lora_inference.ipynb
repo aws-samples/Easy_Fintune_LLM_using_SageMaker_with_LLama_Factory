{
 "cells": [
  {
   "cell_type": "markdown",
   "id": "07cc3ce3-e024-4990-b6bb-d22c78514efa",
   "metadata": {},
   "source": [
    "# Using LLama Factory finetune on SageMaker \n",
    "# 2. 使用vLLM进行本地推理"
   ]
  },
  {
   "cell_type": "markdown",
   "id": "f97ce18b-d8a7-4f31-b8d6-1de1725124af",
   "metadata": {},
   "source": [
    "## 安装依赖包"
   ]
  },
  {
   "cell_type": "code",
   "execution_count": 1,
   "id": "b66561ea-0d2b-440c-ade2-d1820ea01e67",
   "metadata": {
    "tags": []
   },
   "outputs": [
    {
     "name": "stdout",
     "output_type": "stream",
     "text": [
      "Collecting vllm\n",
      "  Downloading vllm-0.4.3-cp310-cp310-manylinux1_x86_64.whl.metadata (7.8 kB)\n",
      "Requirement already satisfied: bitsandbytes in /home/ec2-user/anaconda3/envs/python3/lib/python3.10/site-packages (0.43.1)\n",
      "Collecting cmake>=3.21 (from vllm)\n",
      "  Downloading cmake-3.29.3-py3-none-manylinux_2_17_x86_64.manylinux2014_x86_64.whl.metadata (6.1 kB)\n",
      "Requirement already satisfied: ninja in /home/ec2-user/anaconda3/envs/python3/lib/python3.10/site-packages (from vllm) (1.11.1.1)\n",
      "Requirement already satisfied: psutil in /home/ec2-user/anaconda3/envs/python3/lib/python3.10/site-packages (from vllm) (5.9.8)\n",
      "Requirement already satisfied: sentencepiece in /home/ec2-user/anaconda3/envs/python3/lib/python3.10/site-packages (from vllm) (0.2.0)\n",
      "Requirement already satisfied: numpy in /home/ec2-user/anaconda3/envs/python3/lib/python3.10/site-packages (from vllm) (1.22.4)\n",
      "Requirement already satisfied: requests in /home/ec2-user/anaconda3/envs/python3/lib/python3.10/site-packages (from vllm) (2.32.3)\n",
      "Requirement already satisfied: py-cpuinfo in /home/ec2-user/anaconda3/envs/python3/lib/python3.10/site-packages (from vllm) (9.0.0)\n",
      "Requirement already satisfied: transformers>=4.40.0 in /home/ec2-user/anaconda3/envs/python3/lib/python3.10/site-packages (from vllm) (4.41.2)\n",
      "Requirement already satisfied: tokenizers>=0.19.1 in /home/ec2-user/anaconda3/envs/python3/lib/python3.10/site-packages (from vllm) (0.19.1)\n",
      "Requirement already satisfied: fastapi in /home/ec2-user/anaconda3/envs/python3/lib/python3.10/site-packages (from vllm) (0.111.0)\n",
      "Requirement already satisfied: aiohttp in /home/ec2-user/anaconda3/envs/python3/lib/python3.10/site-packages (from vllm) (3.9.3)\n",
      "Collecting openai (from vllm)\n",
      "  Downloading openai-1.31.2-py3-none-any.whl.metadata (21 kB)\n",
      "Requirement already satisfied: uvicorn[standard] in /home/ec2-user/anaconda3/envs/python3/lib/python3.10/site-packages (from vllm) (0.30.1)\n",
      "Requirement already satisfied: pydantic>=2.0 in /home/ec2-user/anaconda3/envs/python3/lib/python3.10/site-packages (from vllm) (2.7.3)\n",
      "Requirement already satisfied: prometheus-client>=0.18.0 in /home/ec2-user/anaconda3/envs/python3/lib/python3.10/site-packages (from vllm) (0.20.0)\n",
      "Collecting prometheus-fastapi-instrumentator>=7.0.0 (from vllm)\n",
      "  Downloading prometheus_fastapi_instrumentator-7.0.0-py3-none-any.whl.metadata (13 kB)\n",
      "Requirement already satisfied: tiktoken>=0.6.0 in /home/ec2-user/anaconda3/envs/python3/lib/python3.10/site-packages (from vllm) (0.7.0)\n",
      "Collecting lm-format-enforcer==0.10.1 (from vllm)\n",
      "  Downloading lm_format_enforcer-0.10.1-py3-none-any.whl.metadata (16 kB)\n",
      "Collecting outlines==0.0.34 (from vllm)\n",
      "  Downloading outlines-0.0.34-py3-none-any.whl.metadata (13 kB)\n",
      "Requirement already satisfied: typing-extensions in /home/ec2-user/anaconda3/envs/python3/lib/python3.10/site-packages (from vllm) (4.10.0)\n",
      "Requirement already satisfied: filelock>=3.10.4 in /home/ec2-user/anaconda3/envs/python3/lib/python3.10/site-packages (from vllm) (3.13.3)\n",
      "Collecting ray>=2.9 (from vllm)\n",
      "  Downloading ray-2.23.0-cp310-cp310-manylinux2014_x86_64.whl.metadata (13 kB)\n",
      "Collecting nvidia-ml-py (from vllm)\n",
      "  Downloading nvidia_ml_py-12.555.43-py3-none-any.whl.metadata (8.6 kB)\n",
      "Collecting torch==2.3.0 (from vllm)\n",
      "  Downloading torch-2.3.0-cp310-cp310-manylinux1_x86_64.whl.metadata (26 kB)\n",
      "Collecting xformers==0.0.26.post1 (from vllm)\n",
      "  Downloading xformers-0.0.26.post1-cp310-cp310-manylinux2014_x86_64.whl.metadata (1.0 kB)\n",
      "Collecting vllm-flash-attn==2.5.8.post2 (from vllm)\n",
      "  Downloading vllm_flash_attn-2.5.8.post2-cp310-cp310-manylinux1_x86_64.whl.metadata (482 bytes)\n",
      "Collecting interegular>=0.3.2 (from lm-format-enforcer==0.10.1->vllm)\n",
      "  Downloading interegular-0.3.3-py37-none-any.whl.metadata (3.0 kB)\n",
      "Requirement already satisfied: packaging in /home/ec2-user/anaconda3/envs/python3/lib/python3.10/site-packages (from lm-format-enforcer==0.10.1->vllm) (21.3)\n",
      "Requirement already satisfied: pyyaml in /home/ec2-user/anaconda3/envs/python3/lib/python3.10/site-packages (from lm-format-enforcer==0.10.1->vllm) (6.0.1)\n",
      "Requirement already satisfied: jinja2 in /home/ec2-user/anaconda3/envs/python3/lib/python3.10/site-packages (from outlines==0.0.34->vllm) (3.1.3)\n",
      "Collecting lark (from outlines==0.0.34->vllm)\n",
      "  Downloading lark-1.1.9-py3-none-any.whl.metadata (1.9 kB)\n",
      "Requirement already satisfied: nest-asyncio in /home/ec2-user/anaconda3/envs/python3/lib/python3.10/site-packages (from outlines==0.0.34->vllm) (1.6.0)\n",
      "Requirement already satisfied: cloudpickle in /home/ec2-user/anaconda3/envs/python3/lib/python3.10/site-packages (from outlines==0.0.34->vllm) (2.2.1)\n",
      "Collecting diskcache (from outlines==0.0.34->vllm)\n",
      "  Downloading diskcache-5.6.3-py3-none-any.whl.metadata (20 kB)\n",
      "Requirement already satisfied: scipy in /home/ec2-user/anaconda3/envs/python3/lib/python3.10/site-packages (from outlines==0.0.34->vllm) (1.12.0)\n",
      "Requirement already satisfied: numba in /home/ec2-user/anaconda3/envs/python3/lib/python3.10/site-packages (from outlines==0.0.34->vllm) (0.59.1)\n",
      "Requirement already satisfied: joblib in /home/ec2-user/anaconda3/envs/python3/lib/python3.10/site-packages (from outlines==0.0.34->vllm) (1.3.2)\n",
      "Requirement already satisfied: referencing in /home/ec2-user/anaconda3/envs/python3/lib/python3.10/site-packages (from outlines==0.0.34->vllm) (0.34.0)\n",
      "Requirement already satisfied: jsonschema in /home/ec2-user/anaconda3/envs/python3/lib/python3.10/site-packages (from outlines==0.0.34->vllm) (4.21.1)\n",
      "Requirement already satisfied: sympy in /home/ec2-user/anaconda3/envs/python3/lib/python3.10/site-packages (from torch==2.3.0->vllm) (1.12)\n",
      "Requirement already satisfied: networkx in /home/ec2-user/anaconda3/envs/python3/lib/python3.10/site-packages (from torch==2.3.0->vllm) (3.2.1)\n",
      "Requirement already satisfied: fsspec in /home/ec2-user/anaconda3/envs/python3/lib/python3.10/site-packages (from torch==2.3.0->vllm) (2024.3.1)\n",
      "Requirement already satisfied: nvidia-cuda-nvrtc-cu12==12.1.105 in /home/ec2-user/anaconda3/envs/python3/lib/python3.10/site-packages (from torch==2.3.0->vllm) (12.1.105)\n",
      "Requirement already satisfied: nvidia-cuda-runtime-cu12==12.1.105 in /home/ec2-user/anaconda3/envs/python3/lib/python3.10/site-packages (from torch==2.3.0->vllm) (12.1.105)\n",
      "Requirement already satisfied: nvidia-cuda-cupti-cu12==12.1.105 in /home/ec2-user/anaconda3/envs/python3/lib/python3.10/site-packages (from torch==2.3.0->vllm) (12.1.105)\n",
      "Requirement already satisfied: nvidia-cudnn-cu12==8.9.2.26 in /home/ec2-user/anaconda3/envs/python3/lib/python3.10/site-packages (from torch==2.3.0->vllm) (8.9.2.26)\n",
      "Requirement already satisfied: nvidia-cublas-cu12==12.1.3.1 in /home/ec2-user/anaconda3/envs/python3/lib/python3.10/site-packages (from torch==2.3.0->vllm) (12.1.3.1)\n",
      "Requirement already satisfied: nvidia-cufft-cu12==11.0.2.54 in /home/ec2-user/anaconda3/envs/python3/lib/python3.10/site-packages (from torch==2.3.0->vllm) (11.0.2.54)\n",
      "Requirement already satisfied: nvidia-curand-cu12==10.3.2.106 in /home/ec2-user/anaconda3/envs/python3/lib/python3.10/site-packages (from torch==2.3.0->vllm) (10.3.2.106)\n",
      "Requirement already satisfied: nvidia-cusolver-cu12==11.4.5.107 in /home/ec2-user/anaconda3/envs/python3/lib/python3.10/site-packages (from torch==2.3.0->vllm) (11.4.5.107)\n",
      "Requirement already satisfied: nvidia-cusparse-cu12==12.1.0.106 in /home/ec2-user/anaconda3/envs/python3/lib/python3.10/site-packages (from torch==2.3.0->vllm) (12.1.0.106)\n",
      "Requirement already satisfied: nvidia-nccl-cu12==2.20.5 in /home/ec2-user/anaconda3/envs/python3/lib/python3.10/site-packages (from torch==2.3.0->vllm) (2.20.5)\n",
      "Requirement already satisfied: nvidia-nvtx-cu12==12.1.105 in /home/ec2-user/anaconda3/envs/python3/lib/python3.10/site-packages (from torch==2.3.0->vllm) (12.1.105)\n",
      "Collecting triton==2.3.0 (from torch==2.3.0->vllm)\n",
      "  Downloading triton-2.3.0-cp310-cp310-manylinux_2_17_x86_64.manylinux2014_x86_64.whl.metadata (1.4 kB)\n",
      "Requirement already satisfied: nvidia-nvjitlink-cu12 in /home/ec2-user/anaconda3/envs/python3/lib/python3.10/site-packages (from nvidia-cusolver-cu12==11.4.5.107->torch==2.3.0->vllm) (12.5.40)\n",
      "Requirement already satisfied: starlette<1.0.0,>=0.30.0 in /home/ec2-user/anaconda3/envs/python3/lib/python3.10/site-packages (from prometheus-fastapi-instrumentator>=7.0.0->vllm) (0.37.2)\n",
      "Requirement already satisfied: annotated-types>=0.4.0 in /home/ec2-user/anaconda3/envs/python3/lib/python3.10/site-packages (from pydantic>=2.0->vllm) (0.7.0)\n",
      "Requirement already satisfied: pydantic-core==2.18.4 in /home/ec2-user/anaconda3/envs/python3/lib/python3.10/site-packages (from pydantic>=2.0->vllm) (2.18.4)\n",
      "Requirement already satisfied: click>=7.0 in /home/ec2-user/anaconda3/envs/python3/lib/python3.10/site-packages (from ray>=2.9->vllm) (8.1.7)\n",
      "Requirement already satisfied: msgpack<2.0.0,>=1.0.0 in /home/ec2-user/anaconda3/envs/python3/lib/python3.10/site-packages (from ray>=2.9->vllm) (1.0.7)\n",
      "Requirement already satisfied: protobuf!=3.19.5,>=3.15.3 in /home/ec2-user/anaconda3/envs/python3/lib/python3.10/site-packages (from ray>=2.9->vllm) (4.25.3)\n",
      "Requirement already satisfied: aiosignal in /home/ec2-user/anaconda3/envs/python3/lib/python3.10/site-packages (from ray>=2.9->vllm) (1.3.1)\n",
      "Requirement already satisfied: frozenlist in /home/ec2-user/anaconda3/envs/python3/lib/python3.10/site-packages (from ray>=2.9->vllm) (1.4.1)\n",
      "Requirement already satisfied: regex>=2022.1.18 in /home/ec2-user/anaconda3/envs/python3/lib/python3.10/site-packages (from tiktoken>=0.6.0->vllm) (2023.12.25)\n",
      "Requirement already satisfied: charset-normalizer<4,>=2 in /home/ec2-user/anaconda3/envs/python3/lib/python3.10/site-packages (from requests->vllm) (3.3.2)\n",
      "Requirement already satisfied: idna<4,>=2.5 in /home/ec2-user/anaconda3/envs/python3/lib/python3.10/site-packages (from requests->vllm) (3.6)\n",
      "Requirement already satisfied: urllib3<3,>=1.21.1 in /home/ec2-user/anaconda3/envs/python3/lib/python3.10/site-packages (from requests->vllm) (2.2.1)\n",
      "Requirement already satisfied: certifi>=2017.4.17 in /home/ec2-user/anaconda3/envs/python3/lib/python3.10/site-packages (from requests->vllm) (2024.2.2)\n",
      "Requirement already satisfied: huggingface-hub<1.0,>=0.16.4 in /home/ec2-user/anaconda3/envs/python3/lib/python3.10/site-packages (from tokenizers>=0.19.1->vllm) (0.23.3)\n",
      "Requirement already satisfied: safetensors>=0.4.1 in /home/ec2-user/anaconda3/envs/python3/lib/python3.10/site-packages (from transformers>=4.40.0->vllm) (0.4.3)\n",
      "Requirement already satisfied: tqdm>=4.27 in /home/ec2-user/anaconda3/envs/python3/lib/python3.10/site-packages (from transformers>=4.40.0->vllm) (4.66.2)\n",
      "Requirement already satisfied: attrs>=17.3.0 in /home/ec2-user/anaconda3/envs/python3/lib/python3.10/site-packages (from aiohttp->vllm) (23.2.0)\n",
      "Requirement already satisfied: multidict<7.0,>=4.5 in /home/ec2-user/anaconda3/envs/python3/lib/python3.10/site-packages (from aiohttp->vllm) (6.0.5)\n",
      "Requirement already satisfied: yarl<2.0,>=1.0 in /home/ec2-user/anaconda3/envs/python3/lib/python3.10/site-packages (from aiohttp->vllm) (1.9.4)\n",
      "Requirement already satisfied: async-timeout<5.0,>=4.0 in /home/ec2-user/anaconda3/envs/python3/lib/python3.10/site-packages (from aiohttp->vllm) (4.0.3)\n",
      "Requirement already satisfied: fastapi-cli>=0.0.2 in /home/ec2-user/anaconda3/envs/python3/lib/python3.10/site-packages (from fastapi->vllm) (0.0.4)\n",
      "Requirement already satisfied: httpx>=0.23.0 in /home/ec2-user/anaconda3/envs/python3/lib/python3.10/site-packages (from fastapi->vllm) (0.27.0)\n",
      "Requirement already satisfied: python-multipart>=0.0.7 in /home/ec2-user/anaconda3/envs/python3/lib/python3.10/site-packages (from fastapi->vllm) (0.0.9)\n",
      "Requirement already satisfied: ujson!=4.0.2,!=4.1.0,!=4.2.0,!=4.3.0,!=5.0.0,!=5.1.0,>=4.0.1 in /home/ec2-user/anaconda3/envs/python3/lib/python3.10/site-packages (from fastapi->vllm) (5.9.0)\n",
      "Requirement already satisfied: orjson>=3.2.1 in /home/ec2-user/anaconda3/envs/python3/lib/python3.10/site-packages (from fastapi->vllm) (3.10.3)\n",
      "Requirement already satisfied: email_validator>=2.0.0 in /home/ec2-user/anaconda3/envs/python3/lib/python3.10/site-packages (from fastapi->vllm) (2.1.1)\n",
      "Requirement already satisfied: h11>=0.8 in /home/ec2-user/anaconda3/envs/python3/lib/python3.10/site-packages (from uvicorn[standard]->vllm) (0.14.0)\n",
      "Requirement already satisfied: httptools>=0.5.0 in /home/ec2-user/anaconda3/envs/python3/lib/python3.10/site-packages (from uvicorn[standard]->vllm) (0.6.1)\n",
      "Requirement already satisfied: python-dotenv>=0.13 in /home/ec2-user/anaconda3/envs/python3/lib/python3.10/site-packages (from uvicorn[standard]->vllm) (1.0.1)\n",
      "Requirement already satisfied: uvloop!=0.15.0,!=0.15.1,>=0.14.0 in /home/ec2-user/anaconda3/envs/python3/lib/python3.10/site-packages (from uvicorn[standard]->vllm) (0.19.0)\n",
      "Requirement already satisfied: watchfiles>=0.13 in /home/ec2-user/anaconda3/envs/python3/lib/python3.10/site-packages (from uvicorn[standard]->vllm) (0.22.0)\n",
      "Requirement already satisfied: websockets>=10.4 in /home/ec2-user/anaconda3/envs/python3/lib/python3.10/site-packages (from uvicorn[standard]->vllm) (11.0.3)\n",
      "Requirement already satisfied: anyio<5,>=3.5.0 in /home/ec2-user/anaconda3/envs/python3/lib/python3.10/site-packages (from openai->vllm) (4.3.0)\n",
      "Collecting distro<2,>=1.7.0 (from openai->vllm)\n",
      "  Downloading distro-1.9.0-py3-none-any.whl.metadata (6.8 kB)\n",
      "Requirement already satisfied: sniffio in /home/ec2-user/anaconda3/envs/python3/lib/python3.10/site-packages (from openai->vllm) (1.3.1)\n",
      "Requirement already satisfied: exceptiongroup>=1.0.2 in /home/ec2-user/anaconda3/envs/python3/lib/python3.10/site-packages (from anyio<5,>=3.5.0->openai->vllm) (1.2.0)\n",
      "Requirement already satisfied: dnspython>=2.0.0 in /home/ec2-user/anaconda3/envs/python3/lib/python3.10/site-packages (from email_validator>=2.0.0->fastapi->vllm) (2.6.1)\n",
      "Requirement already satisfied: typer>=0.12.3 in /home/ec2-user/anaconda3/envs/python3/lib/python3.10/site-packages (from fastapi-cli>=0.0.2->fastapi->vllm) (0.12.3)\n",
      "Requirement already satisfied: httpcore==1.* in /home/ec2-user/anaconda3/envs/python3/lib/python3.10/site-packages (from httpx>=0.23.0->fastapi->vllm) (1.0.4)\n",
      "Requirement already satisfied: MarkupSafe>=2.0 in /home/ec2-user/anaconda3/envs/python3/lib/python3.10/site-packages (from jinja2->outlines==0.0.34->vllm) (2.1.5)\n",
      "Requirement already satisfied: pyparsing!=3.0.5,>=2.0.2 in /home/ec2-user/anaconda3/envs/python3/lib/python3.10/site-packages (from packaging->lm-format-enforcer==0.10.1->vllm) (3.1.2)\n",
      "Requirement already satisfied: jsonschema-specifications>=2023.03.6 in /home/ec2-user/anaconda3/envs/python3/lib/python3.10/site-packages (from jsonschema->outlines==0.0.34->vllm) (2023.12.1)\n",
      "Requirement already satisfied: rpds-py>=0.7.1 in /home/ec2-user/anaconda3/envs/python3/lib/python3.10/site-packages (from jsonschema->outlines==0.0.34->vllm) (0.18.0)\n",
      "Requirement already satisfied: llvmlite<0.43,>=0.42.0dev0 in /home/ec2-user/anaconda3/envs/python3/lib/python3.10/site-packages (from numba->outlines==0.0.34->vllm) (0.42.0)\n",
      "Requirement already satisfied: mpmath>=0.19 in /home/ec2-user/anaconda3/envs/python3/lib/python3.10/site-packages (from sympy->torch==2.3.0->vllm) (1.3.0)\n",
      "Requirement already satisfied: shellingham>=1.3.0 in /home/ec2-user/anaconda3/envs/python3/lib/python3.10/site-packages (from typer>=0.12.3->fastapi-cli>=0.0.2->fastapi->vllm) (1.5.4)\n",
      "Requirement already satisfied: rich>=10.11.0 in /home/ec2-user/anaconda3/envs/python3/lib/python3.10/site-packages (from typer>=0.12.3->fastapi-cli>=0.0.2->fastapi->vllm) (13.7.1)\n",
      "Requirement already satisfied: markdown-it-py>=2.2.0 in /home/ec2-user/anaconda3/envs/python3/lib/python3.10/site-packages (from rich>=10.11.0->typer>=0.12.3->fastapi-cli>=0.0.2->fastapi->vllm) (3.0.0)\n",
      "Requirement already satisfied: pygments<3.0.0,>=2.13.0 in /home/ec2-user/anaconda3/envs/python3/lib/python3.10/site-packages (from rich>=10.11.0->typer>=0.12.3->fastapi-cli>=0.0.2->fastapi->vllm) (2.17.2)\n",
      "Requirement already satisfied: mdurl~=0.1 in /home/ec2-user/anaconda3/envs/python3/lib/python3.10/site-packages (from markdown-it-py>=2.2.0->rich>=10.11.0->typer>=0.12.3->fastapi-cli>=0.0.2->fastapi->vllm) (0.1.2)\n",
      "Downloading vllm-0.4.3-cp310-cp310-manylinux1_x86_64.whl (131.1 MB)\n",
      "\u001b[2K   \u001b[90m━━━━━━━━━━━━━━━━━━━━━━━━━━━━━━━━━━━━━━━━\u001b[0m \u001b[32m131.1/131.1 MB\u001b[0m \u001b[31m20.1 MB/s\u001b[0m eta \u001b[36m0:00:00\u001b[0m00:01\u001b[0m00:01\u001b[0m\n",
      "\u001b[?25hDownloading lm_format_enforcer-0.10.1-py3-none-any.whl (42 kB)\n",
      "\u001b[2K   \u001b[90m━━━━━━━━━━━━━━━━━━━━━━━━━━━━━━━━━━━━━━━━\u001b[0m \u001b[32m42.9/42.9 kB\u001b[0m \u001b[31m5.1 MB/s\u001b[0m eta \u001b[36m0:00:00\u001b[0m\n",
      "\u001b[?25hDownloading outlines-0.0.34-py3-none-any.whl (76 kB)\n",
      "\u001b[2K   \u001b[90m━━━━━━━━━━━━━━━━━━━━━━━━━━━━━━━━━━━━━━━━\u001b[0m \u001b[32m76.5/76.5 kB\u001b[0m \u001b[31m13.8 MB/s\u001b[0m eta \u001b[36m0:00:00\u001b[0m\n",
      "\u001b[?25hDownloading torch-2.3.0-cp310-cp310-manylinux1_x86_64.whl (779.1 MB)\n",
      "\u001b[2K   \u001b[90m━━━━━━━━━━━━━━━━━━━━━━━━━━━━━━━━━━━━━━━━\u001b[0m \u001b[32m779.1/779.1 MB\u001b[0m \u001b[31m1.8 MB/s\u001b[0m eta \u001b[36m0:00:00\u001b[0m:00:01\u001b[0m00:01\u001b[0m\n",
      "\u001b[?25hDownloading vllm_flash_attn-2.5.8.post2-cp310-cp310-manylinux1_x86_64.whl (37.1 MB)\n",
      "\u001b[2K   \u001b[90m━━━━━━━━━━━━━━━━━━━━━━━━━━━━━━━━━━━━━━━━\u001b[0m \u001b[32m37.1/37.1 MB\u001b[0m \u001b[31m56.6 MB/s\u001b[0m eta \u001b[36m0:00:00\u001b[0m:00:01\u001b[0m00:01\u001b[0m\n",
      "\u001b[?25hDownloading xformers-0.0.26.post1-cp310-cp310-manylinux2014_x86_64.whl (222.7 MB)\n",
      "\u001b[2K   \u001b[90m━━━━━━━━━━━━━━━━━━━━━━━━━━━━━━━━━━━━━━━━\u001b[0m \u001b[32m222.7/222.7 MB\u001b[0m \u001b[31m11.0 MB/s\u001b[0m eta \u001b[36m0:00:00\u001b[0m00:01\u001b[0m00:01\u001b[0m\n",
      "\u001b[?25hDownloading triton-2.3.0-cp310-cp310-manylinux_2_17_x86_64.manylinux2014_x86_64.whl (168.1 MB)\n",
      "\u001b[2K   \u001b[90m━━━━━━━━━━━━━━━━━━━━━━━━━━━━━━━━━━━━━━━━\u001b[0m \u001b[32m168.1/168.1 MB\u001b[0m \u001b[31m15.3 MB/s\u001b[0m eta \u001b[36m0:00:00\u001b[0m00:01\u001b[0m00:01\u001b[0m\n",
      "\u001b[?25hDownloading cmake-3.29.3-py3-none-manylinux_2_17_x86_64.manylinux2014_x86_64.whl (26.7 MB)\n",
      "\u001b[2K   \u001b[90m━━━━━━━━━━━━━━━━━━━━━━━━━━━━━━━━━━━━━━━━\u001b[0m \u001b[32m26.7/26.7 MB\u001b[0m \u001b[31m79.7 MB/s\u001b[0m eta \u001b[36m0:00:00\u001b[0m:00:01\u001b[0m00:01\u001b[0m\n",
      "\u001b[?25hDownloading prometheus_fastapi_instrumentator-7.0.0-py3-none-any.whl (19 kB)\n",
      "Downloading ray-2.23.0-cp310-cp310-manylinux2014_x86_64.whl (65.7 MB)\n",
      "\u001b[2K   \u001b[90m━━━━━━━━━━━━━━━━━━━━━━━━━━━━━━━━━━━━━━━━\u001b[0m \u001b[32m65.7/65.7 MB\u001b[0m \u001b[31m40.8 MB/s\u001b[0m eta \u001b[36m0:00:00\u001b[0m:00:01\u001b[0m00:01\u001b[0m\n",
      "\u001b[?25hDownloading nvidia_ml_py-12.555.43-py3-none-any.whl (39 kB)\n",
      "Downloading openai-1.31.2-py3-none-any.whl (324 kB)\n",
      "\u001b[2K   \u001b[90m━━━━━━━━━━━━━━━━━━━━━━━━━━━━━━━━━━━━━━━━\u001b[0m \u001b[32m324.1/324.1 kB\u001b[0m \u001b[31m41.0 MB/s\u001b[0m eta \u001b[36m0:00:00\u001b[0m\n",
      "\u001b[?25hDownloading distro-1.9.0-py3-none-any.whl (20 kB)\n",
      "Downloading interegular-0.3.3-py37-none-any.whl (23 kB)\n",
      "Downloading diskcache-5.6.3-py3-none-any.whl (45 kB)\n",
      "\u001b[2K   \u001b[90m━━━━━━━━━━━━━━━━━━━━━━━━━━━━━━━━━━━━━━━━\u001b[0m \u001b[32m45.5/45.5 kB\u001b[0m \u001b[31m8.3 MB/s\u001b[0m eta \u001b[36m0:00:00\u001b[0m\n",
      "\u001b[?25hDownloading lark-1.1.9-py3-none-any.whl (111 kB)\n",
      "\u001b[2K   \u001b[90m━━━━━━━━━━━━━━━━━━━━━━━━━━━━━━━━━━━━━━━━\u001b[0m \u001b[32m111.7/111.7 kB\u001b[0m \u001b[31m13.6 MB/s\u001b[0m eta \u001b[36m0:00:00\u001b[0m\n",
      "\u001b[?25hInstalling collected packages: nvidia-ml-py, triton, lark, interegular, distro, diskcache, cmake, torch, prometheus-fastapi-instrumentator, openai, lm-format-enforcer, xformers, vllm-flash-attn, ray, outlines, vllm\n",
      "  Attempting uninstall: triton\n",
      "    Found existing installation: triton 2.3.1\n",
      "    Uninstalling triton-2.3.1:\n",
      "      Successfully uninstalled triton-2.3.1\n",
      "  Attempting uninstall: torch\n",
      "    Found existing installation: torch 2.3.1\n",
      "    Uninstalling torch-2.3.1:\n",
      "      Successfully uninstalled torch-2.3.1\n",
      "Successfully installed cmake-3.29.3 diskcache-5.6.3 distro-1.9.0 interegular-0.3.3 lark-1.1.9 lm-format-enforcer-0.10.1 nvidia-ml-py-12.555.43 openai-1.31.2 outlines-0.0.34 prometheus-fastapi-instrumentator-7.0.0 ray-2.23.0 torch-2.3.0 triton-2.3.0 vllm-0.4.3 vllm-flash-attn-2.5.8.post2 xformers-0.0.26.post1\n"
     ]
    }
   ],
   "source": [
    "!pip install vllm bitsandbytes"
   ]
  },
  {
   "cell_type": "code",
   "execution_count": null,
   "id": "e6195cf1-3605-4d00-b594-071488955a02",
   "metadata": {},
   "outputs": [],
   "source": [
    "### 从s3下载模型文件到本地"
   ]
  },
  {
   "cell_type": "code",
   "execution_count": 2,
   "id": "411aa6cd-fb67-4a1e-a397-2082c87ade0b",
   "metadata": {
    "tags": []
   },
   "outputs": [
    {
     "name": "stdout",
     "output_type": "stream",
     "text": [
      "sagemaker.config INFO - Not applying SDK defaults from location: /etc/xdg/sagemaker/config.yaml\n",
      "sagemaker.config INFO - Not applying SDK defaults from location: /home/ec2-user/.config/sagemaker/config.yaml\n"
     ]
    }
   ],
   "source": [
    "import boto3\n",
    "import pprint\n",
    "from tqdm import tqdm\n",
    "import sagemaker\n",
    "sagemaker_session =  sagemaker.session.Session() #sagemaker.session.Session()\n",
    "region = sagemaker_session.boto_region_name\n",
    "role = sagemaker.get_execution_role()\n",
    "default_bucket = sagemaker_session.default_bucket()"
   ]
  },
  {
   "cell_type": "code",
   "execution_count": 9,
   "id": "7d2eafc8-a6b3-49d0-9dee-349243e3888a",
   "metadata": {},
   "outputs": [
    {
     "name": "stdout",
     "output_type": "stream",
     "text": [
      "download: s3://sagemaker-us-east-1-434444145045/llama3-8b-qlora/finetuned_model/adapter_config.json to local_model/finetuned_model/adapter_config.json\n",
      "download: s3://sagemaker-us-east-1-434444145045/llama3-8b-qlora/finetuned_model/all_results.json to local_model/finetuned_model/all_results.json\n",
      "download: s3://sagemaker-us-east-1-434444145045/llama3-8b-qlora/finetuned_model/checkpoint-500/special_tokens_map.json to local_model/finetuned_model/checkpoint-500/special_tokens_map.json\n",
      "download: s3://sagemaker-us-east-1-434444145045/llama3-8b-qlora/finetuned_model/checkpoint-500/adapter_config.json to local_model/finetuned_model/checkpoint-500/adapter_config.json\n",
      "download: s3://sagemaker-us-east-1-434444145045/llama3-8b-qlora/finetuned_model/checkpoint-500/README.md to local_model/finetuned_model/checkpoint-500/README.md\n",
      "download: s3://sagemaker-us-east-1-434444145045/llama3-8b-qlora/finetuned_model/README.md to local_model/finetuned_model/README.md\n",
      "download: s3://sagemaker-us-east-1-434444145045/llama3-8b-qlora/finetuned_model/checkpoint-500/scheduler.pt to local_model/finetuned_model/checkpoint-500/scheduler.pt\n",
      "download: s3://sagemaker-us-east-1-434444145045/llama3-8b-qlora/finetuned_model/checkpoint-500/trainer_state.json to local_model/finetuned_model/checkpoint-500/trainer_state.json\n",
      "download: s3://sagemaker-us-east-1-434444145045/llama3-8b-qlora/finetuned_model/checkpoint-500/rng_state.pth to local_model/finetuned_model/checkpoint-500/rng_state.pth\n",
      "download: s3://sagemaker-us-east-1-434444145045/llama3-8b-qlora/finetuned_model/checkpoint-500/tokenizer_config.json to local_model/finetuned_model/checkpoint-500/tokenizer_config.json\n",
      "download: s3://sagemaker-us-east-1-434444145045/llama3-8b-qlora/finetuned_model/checkpoint-500/training_args.bin to local_model/finetuned_model/checkpoint-500/training_args.bin\n",
      "download: s3://sagemaker-us-east-1-434444145045/llama3-8b-qlora/finetuned_model/adapter_model.safetensors to local_model/finetuned_model/adapter_model.safetensors\n",
      "download: s3://sagemaker-us-east-1-434444145045/llama3-8b-qlora/finetuned_model/eval_results.json to local_model/finetuned_model/eval_results.json\n",
      "download: s3://sagemaker-us-east-1-434444145045/llama3-8b-qlora/finetuned_model/runs/Jun05_16-14-18_algo-1/events.out.tfevents.1717604084.algo-1.259.0 to local_model/finetuned_model/runs/Jun05_16-14-18_algo-1/events.out.tfevents.1717604084.algo-1.259.0\n",
      "download: s3://sagemaker-us-east-1-434444145045/llama3-8b-qlora/finetuned_model/checkpoint-500/tokenizer.json to local_model/finetuned_model/checkpoint-500/tokenizer.json\n",
      "download: s3://sagemaker-us-east-1-434444145045/llama3-8b-qlora/finetuned_model/runs/Jun05_16-14-18_algo-1/events.out.tfevents.1717607995.algo-1.259.1 to local_model/finetuned_model/runs/Jun05_16-14-18_algo-1/events.out.tfevents.1717607995.algo-1.259.1\n",
      "download: s3://sagemaker-us-east-1-434444145045/llama3-8b-qlora/finetuned_model/tokenizer_config.json to local_model/finetuned_model/tokenizer_config.json\n",
      "download: s3://sagemaker-us-east-1-434444145045/llama3-8b-qlora/finetuned_model/train_results.json to local_model/finetuned_model/train_results.json\n",
      "download: s3://sagemaker-us-east-1-434444145045/llama3-8b-qlora/finetuned_model/special_tokens_map.json to local_model/finetuned_model/special_tokens_map.json\n",
      "download: s3://sagemaker-us-east-1-434444145045/llama3-8b-qlora/finetuned_model/trainer_state.json to local_model/finetuned_model/trainer_state.json\n",
      "download: s3://sagemaker-us-east-1-434444145045/llama3-8b-qlora/finetuned_model/training_args.bin to local_model/finetuned_model/training_args.bin\n",
      "download: s3://sagemaker-us-east-1-434444145045/llama3-8b-qlora/finetuned_model/trainer_log.jsonl to local_model/finetuned_model/trainer_log.jsonl\n",
      "download: s3://sagemaker-us-east-1-434444145045/llama3-8b-qlora/finetuned_model/tokenizer.json to local_model/finetuned_model/tokenizer.json\n",
      "download: s3://sagemaker-us-east-1-434444145045/llama3-8b-qlora/finetuned_model/training_eval_loss.png to local_model/finetuned_model/training_eval_loss.png\n",
      "download: s3://sagemaker-us-east-1-434444145045/llama3-8b-qlora/finetuned_model/training_loss.png to local_model/finetuned_model/training_loss.png\n",
      "download: s3://sagemaker-us-east-1-434444145045/llama3-8b-qlora/finetuned_model/checkpoint-500/optimizer.pt to local_model/finetuned_model/checkpoint-500/optimizer.pt\n",
      "download: s3://sagemaker-us-east-1-434444145045/llama3-8b-qlora/finetuned_model/checkpoint-500/adapter_model.safetensors to local_model/finetuned_model/checkpoint-500/adapter_model.safetensors\n"
     ]
    }
   ],
   "source": [
    "!aws s3 sync s3://{default_bucket}/llama3-8b-qlora/ ./local_model"
   ]
  },
  {
   "cell_type": "markdown",
   "id": "8efb1132-2f03-4ee8-82c7-1c5aad5cad24",
   "metadata": {},
   "source": [
    "## 加载模型tokenizer"
   ]
  },
  {
   "cell_type": "code",
   "execution_count": 3,
   "id": "ff8d2745-b522-4f24-98fc-544c59981a93",
   "metadata": {},
   "outputs": [],
   "source": [
    "from transformers import AutoModelForCausalLM, AutoTokenizer\n",
    "import torch"
   ]
  },
  {
   "cell_type": "code",
   "execution_count": 4,
   "id": "fb0dda29-eace-4024-baa9-a31cbe38e6a7",
   "metadata": {},
   "outputs": [
    {
     "name": "stderr",
     "output_type": "stream",
     "text": [
      "Special tokens have been added in the vocabulary, make sure the associated word embeddings are fine-tuned or trained.\n"
     ]
    }
   ],
   "source": [
    "model_id = 'TechxGenus/Meta-Llama-3-8B-Instruct-AWQ'\n",
    "tokenizer = AutoTokenizer.from_pretrained(model_id)"
   ]
  },
  {
   "cell_type": "markdown",
   "id": "8bb16486-c28d-4f1a-8252-b65228d191c3",
   "metadata": {},
   "source": [
    "## 加载sample数据，用于对比"
   ]
  },
  {
   "cell_type": "code",
   "execution_count": 5,
   "id": "ce41018c-4d78-421b-a989-8a1cd08001c0",
   "metadata": {},
   "outputs": [],
   "source": [
    "from datasets import load_dataset\n",
    "from random import randrange\n",
    "# dataset_name = \"zxbsmk/webnovel_cn\"\n",
    "dataset_name = \"hfl/ruozhiba_gpt4\"\n",
    "# Load dataset from the hub\n",
    "train_dataset = load_dataset(dataset_name, split=\"train\")"
   ]
  },
  {
   "cell_type": "code",
   "execution_count": 28,
   "id": "9cc42343-da60-47a7-a3c7-5e35bf63c2e1",
   "metadata": {},
   "outputs": [
    {
     "name": "stdout",
     "output_type": "stream",
     "text": [
      "Training size: 4898\n",
      "\n",
      "Training sample:\n",
      "\n",
      "{'output': '首先，‘女鬼压床’是指睡眠瘫痪症，这是一种在睡觉时突然无法动弹且伴有幻觉的不适感，并非真正的鬼魂现象。多数情况下睡眠瘫痪是暂时的，数秒至数分钟内会自行恢复。这种现象通常与压力大、睡眠不足、作息不规律等因素有关。假如你经历了这种情况，首先不用过度恐慌，应保持冷静，意识到这是一个科学现象而不是超自然事件。其次，改善生活习惯，如保持规律的作息时间，避免过度疲劳和压力，能够有效减少这种现象的发生。因此，‘拒绝’女鬼的方法就是通过健康的生活习惯预防和缓解睡眠瘫痪症的发生。如果频繁出现，可以考虑咨询睡眠专家以寻求更专业的帮助。', 'input': '', 'instruction': '睡觉时被女鬼压床我已经有老婆了我该怎么拒绝'}\n"
     ]
    }
   ],
   "source": [
    "\n",
    "print(f\"Training size: {len(train_dataset)}\")\n",
    "print(\"\\nTraining sample:\\n\")\n",
    "num_samples = 200\n",
    "print(train_dataset[randrange(num_samples)])"
   ]
  },
  {
   "cell_type": "code",
   "execution_count": 17,
   "id": "86b51667-4bda-49b3-8453-b6602fc650c9",
   "metadata": {},
   "outputs": [],
   "source": [
    "sql_lora_path = './local_model/finetuned_model'"
   ]
  },
  {
   "cell_type": "markdown",
   "id": "e3a54f14-bc6b-4536-af7e-3f402773fb98",
   "metadata": {},
   "source": [
    "## 使用本地的vLLM部署"
   ]
  },
  {
   "cell_type": "code",
   "execution_count": 8,
   "id": "fb9259ec-03be-46bf-a7bc-b558b5f4d23f",
   "metadata": {},
   "outputs": [],
   "source": [
    "from vllm.lora.request import LoRARequest\n",
    "from vllm import LLM,SamplingParams\n",
    "from transformers import AutoModelForCausalLM, AutoTokenizer\n"
   ]
  },
  {
   "cell_type": "code",
   "execution_count": 9,
   "id": "b590cc15-e64f-4da2-abe2-ff42640cab80",
   "metadata": {},
   "outputs": [
    {
     "name": "stderr",
     "output_type": "stream",
     "text": [
      "Special tokens have been added in the vocabulary, make sure the associated word embeddings are fine-tuned or trained.\n"
     ]
    }
   ],
   "source": [
    "model_id = 'TechxGenus/Meta-Llama-3-8B-Instruct-AWQ'\n",
    "tokenizer = AutoTokenizer.from_pretrained(model_id)"
   ]
  },
  {
   "cell_type": "code",
   "execution_count": 10,
   "id": "39cf9c61-4c9c-49af-baac-01aaabf695cd",
   "metadata": {
    "scrolled": true
   },
   "outputs": [
    {
     "name": "stdout",
     "output_type": "stream",
     "text": [
      "WARNING 06-06 15:27:38 config.py:213] awq quantization is not fully optimized yet. The speed can be slower than non-quantized models.\n",
      "INFO 06-06 15:27:38 llm_engine.py:161] Initializing an LLM engine (v0.4.3) with config: model='TechxGenus/Meta-Llama-3-8B-Instruct-AWQ', speculative_config=None, tokenizer='TechxGenus/Meta-Llama-3-8B-Instruct-AWQ', skip_tokenizer_init=False, tokenizer_mode=auto, revision=None, rope_scaling=None, tokenizer_revision=None, trust_remote_code=False, dtype=torch.float16, max_seq_len=4096, download_dir=None, load_format=LoadFormat.AUTO, tensor_parallel_size=1, disable_custom_all_reduce=False, quantization=awq, enforce_eager=False, kv_cache_dtype=auto, quantization_param_path=None, device_config=cuda, decoding_config=DecodingConfig(guided_decoding_backend='outlines'), seed=0, served_model_name=TechxGenus/Meta-Llama-3-8B-Instruct-AWQ)\n"
     ]
    },
    {
     "name": "stderr",
     "output_type": "stream",
     "text": [
      "/home/ec2-user/anaconda3/envs/python3/lib/python3.10/site-packages/huggingface_hub/file_download.py:1132: FutureWarning: `resume_download` is deprecated and will be removed in version 1.0.0. Downloads always resume when possible. If you want to force a new download, use `force_download=True`.\n",
      "  warnings.warn(\n",
      "Special tokens have been added in the vocabulary, make sure the associated word embeddings are fine-tuned or trained.\n"
     ]
    },
    {
     "name": "stdout",
     "output_type": "stream",
     "text": [
      "INFO 06-06 15:27:39 weight_utils.py:207] Using model weights format ['*.safetensors']\n",
      "INFO 06-06 15:27:40 model_runner.py:146] Loading model weights took 5.3479 GB\n",
      "INFO 06-06 15:27:43 gpu_executor.py:83] # GPU blocks: 6586, # CPU blocks: 2048\n",
      "INFO 06-06 15:27:45 model_runner.py:854] Capturing the model for CUDA graphs. This may lead to unexpected consequences if the model is not static. To run the model in eager mode, set 'enforce_eager=True' or use '--enforce-eager' in the CLI.\n",
      "INFO 06-06 15:27:45 model_runner.py:858] CUDA graphs can take additional 1~3 GiB memory per GPU. If you are running out of memory, consider decreasing `gpu_memory_utilization` or enforcing eager mode. You can also reduce the `max_num_seqs` as needed to decrease memory usage.\n",
      "INFO 06-06 15:27:53 model_runner.py:924] Graph capturing finished in 8 secs.\n"
     ]
    }
   ],
   "source": [
    "llm = LLM(model=model_id,max_model_len=4096,enable_lora=True)"
   ]
  },
  {
   "cell_type": "code",
   "execution_count": 29,
   "id": "26f3ac73-dea3-413c-957a-dc9a615285e6",
   "metadata": {},
   "outputs": [],
   "source": [
    "#测试第一个消息\n",
    "messages = [\n",
    "    {\"role\": \"system\", \"content\":\"请始终用中文回答\"},\n",
    "     {\"role\": \"user\", \"content\": \"你是谁？你是干嘛的\"},\n",
    "]\n",
    "\n",
    "#测试第二个消息\n",
    "messages = [\n",
    "    {\"role\": \"system\", \"content\":\"请始终用中文回答\"},\n",
    "     {\"role\": \"user\", \"content\": \"睡觉时被女鬼压床我该怎么办？\"},\n",
    "]\n",
    "\n",
    "\n",
    "inputs = tokenizer.apply_chat_template(\n",
    "    messages,\n",
    "    tokenize=False,\n",
    "    add_generation_prompt=True\n",
    ")"
   ]
  },
  {
   "cell_type": "markdown",
   "id": "9236a21c-ce2b-4be6-8ee6-b669dd7a266d",
   "metadata": {},
   "source": [
    "### 使用原始模型进行推理"
   ]
  },
  {
   "cell_type": "code",
   "execution_count": 30,
   "id": "86d0f474-83bb-4a03-b2bd-b2c4e3c998b5",
   "metadata": {},
   "outputs": [
    {
     "name": "stderr",
     "output_type": "stream",
     "text": [
      "Processed prompts: 100%|██████████| 1/1 [00:05<00:00,  5.37s/it, Generation Speed: 66.08 toks/s]"
     ]
    },
    {
     "name": "stdout",
     "output_type": "stream",
     "text": [
      "Prompt:\n",
      "'<|begin_of_text|><|start_header_id|>system<|end_header_id|>\\n\\n请始终用中文回答<|eot_id|><|start_header_id|>user<|end_header_id|>\\n\\n睡觉时被女鬼压床我该怎么办？<|eot_id|><|start_header_id|>assistant<|end_header_id|>\\n\\n'\n",
      "Response:\n",
      "'如果您睡觉时被女鬼压床，以下是一些可能有助的建议：\\n\\n1.保持冷静：在这种情况下，保持冷静和镇定非常重要。不要 Panic 或恐惧，因为这可能会使情况变得更糟。\\n2.呼吸深长：深呼吸可以帮助您保持冷静和平静。深呼吸可以减少压力和焦虑。\\n3.祈祷或念佛：祈祷或念佛可以帮助您感受到安全和保护。您可以祈祷女鬼离开您，也可以念佛以求保护。\\n4.寻求帮助：如果您感到女鬼的压床非常强烈或您感到不安全，可以寻求帮助。您可以向家人或朋友寻求帮助，也可以寻求专业人士的帮助，如心理医生或灵媒。\\n5.保持洁净：保持洁净和整洁的环境可以帮助您避免女鬼的攻击。您可以每天清洁房间，也可以在睡前祈祷以求保护。\\n6.避免在黑暗中睡觉：女鬼通常在黑暗中活动，因此避免在黑暗中睡觉可能有助于避免女鬼的攻击。\\n7.寻求专业人士的帮助：如果您感到女鬼的压床非常强烈或您感到不安全，可以寻求专业人士的帮助，如灵媒或占卜师。他们可以帮助您驱逐女鬼或提供其他帮助。\\n\\n记住，女鬼的压床可能是精神或心理问题的表现，因此寻求专业人士的帮助也非常重要。'\n"
     ]
    },
    {
     "name": "stderr",
     "output_type": "stream",
     "text": [
      "\n"
     ]
    }
   ],
   "source": [
    "sampling_params = SamplingParams(temperature=0.1, top_p=0.95,max_tokens=512)\n",
    "\n",
    "outputs = llm.generate(inputs, sampling_params)\n",
    "for output in outputs:\n",
    "    prompt = output.prompt\n",
    "    generated_text = output.outputs[0].text\n",
    "    print(f\"Prompt:\\n{prompt!r}\")\n",
    "    print(f\"Response:\\n{generated_text!r}\")\n"
   ]
  },
  {
   "cell_type": "markdown",
   "id": "009c25a2-449e-4af5-b1c8-873c92ad9243",
   "metadata": {},
   "source": [
    "### 加载Lora进行推理"
   ]
  },
  {
   "cell_type": "code",
   "execution_count": 31,
   "id": "43a3463f-d618-47ec-a618-89719b210134",
   "metadata": {},
   "outputs": [],
   "source": [
    "sql_lora_path = './local_model/finetuned_model'"
   ]
  },
  {
   "cell_type": "code",
   "execution_count": 32,
   "id": "95db9394-c997-48ce-92c3-33381e837833",
   "metadata": {},
   "outputs": [
    {
     "name": "stderr",
     "output_type": "stream",
     "text": [
      "Processed prompts: 100%|██████████| 1/1 [00:01<00:00,  1.07s/it, Generation Speed: 62.72 toks/s]"
     ]
    },
    {
     "name": "stdout",
     "output_type": "stream",
     "text": [
      "Prompt:\n",
      "'<|begin_of_text|><|start_header_id|>system<|end_header_id|>\\n\\n请始终用中文回答<|eot_id|><|start_header_id|>user<|end_header_id|>\\n\\n睡觉时被女鬼压床我该怎么办？<|eot_id|><|start_header_id|>assistant<|end_header_id|>\\n\\n'\n",
      "Response:\n",
      "'睡觉时被女鬼压床是一种非常奇怪且不可能的现象。女鬼是根据传统文化和宗教信仰存在的虚构概念，而在现实中，睡眠时不会有任何非自然的力量压床。因此，用户不需要担心这种情况。'\n"
     ]
    },
    {
     "name": "stderr",
     "output_type": "stream",
     "text": [
      "\n"
     ]
    }
   ],
   "source": [
    "outputs = llm.generate(inputs, sampling_params,lora_request=LoRARequest(\"adapter\", 1, sql_lora_path))\n",
    "\n",
    "# Print the outputs.\n",
    "for output in outputs:\n",
    "    prompt = output.prompt\n",
    "    generated_text = output.outputs[0].text\n",
    "    print(f\"Prompt:\\n{prompt!r}\")\n",
    "    print(f\"Response:\\n{generated_text!r}\")"
   ]
  },
  {
   "cell_type": "code",
   "execution_count": null,
   "id": "826ce7ba-6ff2-45b7-ba9a-ef909a590d68",
   "metadata": {},
   "outputs": [],
   "source": []
  }
 ],
 "metadata": {
  "kernelspec": {
   "display_name": "conda_python3",
   "language": "python",
   "name": "conda_python3"
  },
  "language_info": {
   "codemirror_mode": {
    "name": "ipython",
    "version": 3
   },
   "file_extension": ".py",
   "mimetype": "text/x-python",
   "name": "python",
   "nbconvert_exporter": "python",
   "pygments_lexer": "ipython3",
   "version": "3.10.14"
  }
 },
 "nbformat": 4,
 "nbformat_minor": 5
}
